{
 "cells": [
  {
   "cell_type": "code",
   "execution_count": 1,
   "metadata": {
    "collapsed": true
   },
   "outputs": [],
   "source": [
    "import os"
   ]
  },
  {
   "cell_type": "code",
   "execution_count": 2,
   "metadata": {
    "collapsed": false
   },
   "outputs": [
    {
     "name": "stdout",
     "output_type": "stream",
     "text": [
      "['EX_CANTCREAT', 'EX_CONFIG', 'EX_DATAERR', 'EX_IOERR', 'EX_NOHOST', 'EX_NOINPUT', 'EX_NOPERM', 'EX_NOUSER', 'EX_OK', 'EX_OSERR', 'EX_OSFILE', 'EX_PROTOCOL', 'EX_SOFTWARE', 'EX_TEMPFAIL', 'EX_UNAVAILABLE', 'EX_USAGE', 'F_OK', 'NGROUPS_MAX', 'O_APPEND', 'O_ASYNC', 'O_CREAT', 'O_DIRECTORY', 'O_EXCL', 'O_EXLOCK', 'O_NDELAY', 'O_NOCTTY', 'O_NOFOLLOW', 'O_NONBLOCK', 'O_RDONLY', 'O_RDWR', 'O_SHLOCK', 'O_SYNC', 'O_TRUNC', 'O_WRONLY', 'P_NOWAIT', 'P_NOWAITO', 'P_WAIT', 'R_OK', 'SEEK_CUR', 'SEEK_END', 'SEEK_SET', 'TMP_MAX', 'UserDict', 'WCONTINUED', 'WCOREDUMP', 'WEXITSTATUS', 'WIFCONTINUED', 'WIFEXITED', 'WIFSIGNALED', 'WIFSTOPPED', 'WNOHANG', 'WSTOPSIG', 'WTERMSIG', 'WUNTRACED', 'W_OK', 'X_OK', '_Environ', '__all__', '__builtins__', '__doc__', '__file__', '__name__', '__package__', '_copy_reg', '_execvpe', '_exists', '_exit', '_get_exports_list', '_make_stat_result', '_make_statvfs_result', '_pickle_stat_result', '_pickle_statvfs_result', '_spawnvef', 'abort', 'access', 'altsep', 'chdir', 'chflags', 'chmod', 'chown', 'chroot', 'close', 'closerange', 'confstr', 'confstr_names', 'ctermid', 'curdir', 'defpath', 'devnull', 'dup', 'dup2', 'environ', 'errno', 'error', 'execl', 'execle', 'execlp', 'execlpe', 'execv', 'execve', 'execvp', 'execvpe', 'extsep', 'fchdir', 'fchmod', 'fchown', 'fdopen', 'fork', 'forkpty', 'fpathconf', 'fstat', 'fstatvfs', 'fsync', 'ftruncate', 'getcwd', 'getcwdu', 'getegid', 'getenv', 'geteuid', 'getgid', 'getgroups', 'getloadavg', 'getlogin', 'getpgid', 'getpgrp', 'getpid', 'getppid', 'getsid', 'getuid', 'initgroups', 'isatty', 'kill', 'killpg', 'lchflags', 'lchmod', 'lchown', 'linesep', 'link', 'listdir', 'lseek', 'lstat', 'major', 'makedev', 'makedirs', 'minor', 'mkdir', 'mkfifo', 'mknod', 'name', 'nice', 'open', 'openpty', 'pardir', 'path', 'pathconf', 'pathconf_names', 'pathsep', 'pipe', 'popen', 'popen2', 'popen3', 'popen4', 'putenv', 'read', 'readlink', 'remove', 'removedirs', 'rename', 'renames', 'rmdir', 'sep', 'setegid', 'seteuid', 'setgid', 'setgroups', 'setpgid', 'setpgrp', 'setregid', 'setreuid', 'setsid', 'setuid', 'spawnl', 'spawnle', 'spawnlp', 'spawnlpe', 'spawnv', 'spawnve', 'spawnvp', 'spawnvpe', 'stat', 'stat_float_times', 'stat_result', 'statvfs', 'statvfs_result', 'strerror', 'symlink', 'sys', 'sysconf', 'sysconf_names', 'system', 'tcgetpgrp', 'tcsetpgrp', 'tempnam', 'times', 'tmpfile', 'tmpnam', 'ttyname', 'umask', 'uname', 'unlink', 'unsetenv', 'urandom', 'utime', 'wait', 'wait3', 'wait4', 'waitpid', 'walk', 'write']\n"
     ]
    }
   ],
   "source": [
    "print(dir(os))"
   ]
  },
  {
   "cell_type": "code",
   "execution_count": 22,
   "metadata": {
    "collapsed": false
   },
   "outputs": [],
   "source": [
    "os.chdir('/Users/nish/Downloads')"
   ]
  },
  {
   "cell_type": "code",
   "execution_count": 26,
   "metadata": {
    "collapsed": false
   },
   "outputs": [
    {
     "data": {
      "text/plain": [
       "['.DS_Store',\n",
       " '.localized',\n",
       " '1478441597318.png',\n",
       " '18th Dec 2009 - Documentation.csv',\n",
       " '1944333226-Rishi222_vs_aliusta-2017_02_10.pgn',\n",
       " '3130625A-ZWRPM2_14.0V',\n",
       " '3130625A-ZWRPM2_14.0V.zip',\n",
       " '41088158_1486363561827.pdf',\n",
       " '41088158_1486363634766.pdf',\n",
       " '41088158_1493589570516.xls',\n",
       " '41088158_14935895705166.xls',\n",
       " '41088158_1493589996407.xls',\n",
       " '41088158_1493590023825.xls',\n",
       " '41088158_1493590061060.xls',\n",
       " '7Zip.dmg',\n",
       " '_textpdf.pdf',\n",
       " 'A-1_NO_OF_VILLAGES_TOWNS_HOUSEHOLDS_POPULATION_AND_AREA (1).xlsx',\n",
       " 'A-1_NO_OF_VILLAGES_TOWNS_HOUSEHOLDS_POPULATION_AND_AREA.xlsx',\n",
       " 'Adobe Photoshop CC 2015 (20150529.r.88) (32 64Bit)   Crack.dmg',\n",
       " 'albumlist.csv',\n",
       " 'Assignment - Lists (2).docx',\n",
       " 'Assignment - Lists.docx',\n",
       " 'assignments',\n",
       " 'assignments.zip',\n",
       " 'Byte_of_python.pdf',\n",
       " 'classification-annotated.pdf',\n",
       " 'Company Files',\n",
       " 'Decadal Variation In Population Since 1901.xls',\n",
       " 'dict-en-20170101.oxt',\n",
       " 'EAG Table 1 NLES - 2014.xlsx',\n",
       " 'EAG2014 (1).xlsx',\n",
       " 'EAG2014 (2).xlsx',\n",
       " 'EAG2014.xlsx',\n",
       " 'ESG2016 (1).xlsx',\n",
       " 'ESG2016 (2).xlsx',\n",
       " 'ESG2016 (3).xlsx',\n",
       " 'ESG2016.xlsx',\n",
       " 'FullSizeRender.jpg',\n",
       " 'gender_submission.csv',\n",
       " 'IMG_2164.JPG',\n",
       " 'IMG_4667.JPG',\n",
       " 'LipikaIME.pkg',\n",
       " 'LogicalFallaciesInfographic_A3.pdf.pdf',\n",
       " 'Master_of_Data_Science_2017.pdf',\n",
       " 'MobileBill_1339823210.pdf',\n",
       " 'mospi.nic.in',\n",
       " 'National Level Education Dataset - 2014 - Sheet50.csv',\n",
       " 'National Level Education Dataset - 2014 - Table 2 (1).csv',\n",
       " 'National Level Education Dataset - 2014 - Table 2.csv',\n",
       " 'National Level Education Dataset - 2014 - Table 3.csv',\n",
       " 'National Level Education Dataset - 2014 - Table 4.csv',\n",
       " 'National Level Education Dataset - 2014 - Table-26  International Comparison on GER & Public Expenditure on Education as % of GDP-2012.csv',\n",
       " 'new doc 320170218140812229.pdf',\n",
       " 'newFile (1).py',\n",
       " 'newFile (10).py',\n",
       " 'newFile (11).py',\n",
       " 'newFile (2).py',\n",
       " 'newFile (3).py',\n",
       " 'newFile (4).py',\n",
       " 'newFile (5).py',\n",
       " 'newFile (6).py',\n",
       " 'newFile (7).py',\n",
       " 'newFile (8).py',\n",
       " 'newFile (9).py',\n",
       " 'newFile.py',\n",
       " 'newPython (1).py',\n",
       " 'newPython (2).py',\n",
       " 'newPython.py',\n",
       " 'Nishanth M B Pais SOA.pdf',\n",
       " 'pythonFile.py',\n",
       " 'pythonfiles (1)',\n",
       " 'pythonfiles (1).zip',\n",
       " 'pythonfiles.zip',\n",
       " \"Reader's Digest - February 2017.mobi\",\n",
       " 'Regression.mobi',\n",
       " 'rohitthorat_vs_Rishi222.pgn',\n",
       " 'sample_submission.csv',\n",
       " 'test.csv',\n",
       " 'the-gentleman-bastard-series-3-book-bundle-scott-lynch (1).mobi',\n",
       " 'the-gentleman-bastard-series-3-book-bundle-scott-lynch.mobi',\n",
       " 'train.csv',\n",
       " 'Treebo Sales Brochure - March.pdf',\n",
       " 'Utorrent',\n",
       " 'VillageLevelPopulationAndEmployment (1).xlsx',\n",
       " 'VillageLevelPopulationAndEmployment.xlsx',\n",
       " 'Winamp-0.7.1.86.dmg',\n",
       " 'X2009.xls',\n",
       " 'x2009ExamResults.pdf',\n",
       " 'X2010.xls',\n",
       " 'x2010ExamResults.pdf',\n",
       " 'XII2009.xls',\n",
       " 'XII2010 (1).xls',\n",
       " 'XII2010.xls',\n",
       " 'Yelp Data.ipynb',\n",
       " 'yelp_test_set.tgz',\n",
       " 'yelp_test_set.zip',\n",
       " 'Zekelabs - Function.py']"
      ]
     },
     "execution_count": 26,
     "metadata": {},
     "output_type": "execute_result"
    }
   ],
   "source": [
    "os.getcwd()\n",
    "os.listdir('/Users/nish/Downloads')"
   ]
  },
  {
   "cell_type": "code",
   "execution_count": 10,
   "metadata": {
    "collapsed": false
   },
   "outputs": [
    {
     "name": "stdout",
     "output_type": "stream",
     "text": [
      "/Users/nish/pais-datascience/data\n"
     ]
    }
   ],
   "source": [
    "# os.mkdir('Companies Data')\n",
    "print(os.getcwd())"
   ]
  },
  {
   "cell_type": "code",
   "execution_count": 13,
   "metadata": {
    "collapsed": true
   },
   "outputs": [],
   "source": [
    "os.makedirs('Companies Data/States/Sub-dir')"
   ]
  },
  {
   "cell_type": "code",
   "execution_count": 18,
   "metadata": {
    "collapsed": false
   },
   "outputs": [],
   "source": [
    "os.rmdir('Companies Data/States/Sub-dir')"
   ]
  },
  {
   "cell_type": "code",
   "execution_count": 29,
   "metadata": {
    "collapsed": false
   },
   "outputs": [],
   "source": [
    "os.rename('shit', 'Bad software')"
   ]
  },
  {
   "cell_type": "code",
   "execution_count": 30,
   "metadata": {
    "collapsed": false
   },
   "outputs": [
    {
     "data": {
      "text/plain": [
       "posix.stat_result(st_mode=16832, st_ino=2306870, st_dev=16777220L, st_nlink=20, st_uid=502, st_gid=20, st_size=680, st_atime=1498232645, st_mtime=1493558144, st_ctime=1493558144)"
      ]
     },
     "execution_count": 30,
     "metadata": {},
     "output_type": "execute_result"
    }
   ],
   "source": [
    "os.stat('Bad Software')"
   ]
  },
  {
   "cell_type": "code",
   "execution_count": 32,
   "metadata": {
    "collapsed": false
   },
   "outputs": [
    {
     "data": {
      "text/plain": [
       "1493558144.0"
      ]
     },
     "execution_count": 32,
     "metadata": {},
     "output_type": "execute_result"
    }
   ],
   "source": [
    "os.stat('Bad Software').st_mtime"
   ]
  },
  {
   "cell_type": "code",
   "execution_count": 33,
   "metadata": {
    "collapsed": true
   },
   "outputs": [],
   "source": [
    "from datetime import datetime"
   ]
  },
  {
   "cell_type": "code",
   "execution_count": 35,
   "metadata": {
    "collapsed": true
   },
   "outputs": [],
   "source": [
    "mod_time = os.stat('Bad Software').st_mtime"
   ]
  },
  {
   "cell_type": "code",
   "execution_count": 37,
   "metadata": {
    "collapsed": false
   },
   "outputs": [
    {
     "name": "stdout",
     "output_type": "stream",
     "text": [
      "2017-04-30 18:45:44\n"
     ]
    }
   ],
   "source": [
    "print(datetime.fromtimestamp(mod_time))"
   ]
  },
  {
   "cell_type": "code",
   "execution_count": 48,
   "metadata": {
    "collapsed": false
   },
   "outputs": [
    {
     "name": "stdout",
     "output_type": "stream",
     "text": [
      "('Current Path:', '/Users/nish/pais-datascience/data')\n",
      "('Directories:', ['Companies Data', 'Density', 'Exam_data', 'NLES', 'NLES_Final', 'Population data'])\n",
      "('Files:', ['.DS_Store', 'albumlist.csv', 'BicycleWeather.csv', 'CC.csv', 'champagne.csv', 'ESG2016.xlsx', 'HRAnalytics.csv', 'HRAnalyticsData.csv', 'National Level Education Dataset - 2014 (1).xlsx', 'National Level Education Dataset - 2014 - Table 2.csv', 'National Level Education Dataset - 2014 - Table-26  International Comparison on GER & Public Expenditure on Education as % of GDP-2012.csv', 'National Level Education Dataset - 2014.xlsx', 'National Level Education Dataset - Table_1.csv', 'NLES_table1.csv', 'NLES_table1_xlsx.csv', 'NLES_table1_xlsx.xls', 'NLES_table1_xlsx.xlsx', 'potli.jpg', '~$ESG2016.xlsx'])\n",
      "('Current Path:', '/Users/nish/pais-datascience/data/Companies Data')\n",
      "('Directories:', ['States'])\n",
      "('Files:', ['.DS_Store'])\n",
      "('Current Path:', '/Users/nish/pais-datascience/data/Companies Data/States')\n",
      "('Directories:', [])\n",
      "('Files:', ['.DS_Store'])\n",
      "('Current Path:', '/Users/nish/pais-datascience/data/Density')\n",
      "('Directories:', [])\n",
      "('Files:', ['A1 Villages_Towns_Households.xlsx', 'Decadal Variation In Population Since 1901.xls', 'Decadel Variation.csv', 'Decadel, density, village popl.zip', 'density.csv', 'Village Level Population and Employment.csv', 'VillageLevelPopulationAndEmployment.xlsx'])\n",
      "('Current Path:', '/Users/nish/pais-datascience/data/Exam_data')\n",
      "('Directories:', ['Board', 'XII2010 files'])\n",
      "('Files:', ['.DS_Store', 'X2009.xls', 'X2010.xls', 'XII2009.xls', 'XII2010.xls'])\n",
      "('Current Path:', '/Users/nish/pais-datascience/data/Exam_data/Board')\n",
      "('Directories:', [])\n",
      "('Files:', ['.DS_Store', 'Archive.zip', 'Big_Table_percentages.xlsx', 'Big_Table_students.xlsx', 'Table_10_Results - Percentages -- All Categories.xlsx', 'Table_11_Results - Percentage-wise-SC Students.xlsx', 'Table_12_Results - Percentage-wise-Private Students.xlsx', 'Table_13_Results - High School Open Board Results.xlsx', 'Table_14_Results - .xlsx', 'Table_14_Results - Percentage-wise-All Categories.xlsx', 'Table_15_Results - Percentage-wise-SC Students.xlsx', 'Table_16_Results -  Percentage-wise-ST Students.xlsx', 'Table_1_ASE_Regular Students.xlsx', 'Table_2_ASE_Private Students.xlsx', 'Table_3_ASE_Reguar and Private Students.xlsx', 'Table_4_ASE_Regular SC Students.xlsx', 'Table_5_ASE_Private SC Students.xlsx', 'Table_6_Regular and Private Students.xlsx', 'Table_7_Regular ST Students.xlsx', 'Table_8_Private ST Students.xlsx', 'Table_9_Regular and ST Students.xlsx', 'TS - Statement 1 - HIGH SCHOOL EXAMINATION RESULTS DURING 2005 - 2010.xlsx', 'TS - Statement 2 - HIGH SCHOOL EXAMINATION PASS PERCENTAGE DURING 2005 - 2010.xlsx', 'zBoard wise - Pass Percentage.xlsx'])\n",
      "('Current Path:', '/Users/nish/pais-datascience/data/Exam_data/XII2010 files')\n",
      "('Directories:', [])\n",
      "('Files:', ['.DS_Store', 'Pass Percentage.xlsx', 'Table 1.xlsx', 'Table 10.xlsx', 'Table 11.xlsx', 'Table 12.xlsx', 'Table 13.xlsx', 'Table 14.xlsx', 'Table 15.xlsx', 'Table 16.xlsx', 'Table 17.xlsx', 'Table 18.xlsx', 'Table 2.xlsx', 'Table 3.xlsx', 'Table 4.xlsx', 'Table 5.xlsx', 'Table 6.xlsx', 'Table 7.xlsx', 'Table 8.xlsx', 'Table 9.xlsx', 'TS - Statement 1 - HIGHER SECONDARY EXAMINATION RESULTS DURING 2005 - 2010.xlsx', 'TS - Statement 2 - HIGHER SECONDARY EXAMINATION PASS PERCENTAGE DURING 2005 - 2010.xlsx', 'TS - Statement 3 - Students movement from Class X onwards.xlsx', 'XII Board .zip', 'XII2010.xls'])\n",
      "('Current Path:', '/Users/nish/pais-datascience/data/NLES')\n",
      "('Directories:', ['2014', '2016'])\n",
      "('Files:', ['.DS_Store'])\n",
      "('Current Path:', '/Users/nish/pais-datascience/data/NLES/2014')\n",
      "('Directories:', [])\n",
      "('Files:', ['NLES 2014.zip', 'Table1- Population Census- 2001 & 2011.xlsx', 'Table10- Level-wise Drop-Out Rates in School Education .xlsx', 'Table11A- Examination Results -.xlsx', 'Table11B- Examination Results -B  Class XII 2010.xlsx', 'Table11C- Examination Results -C Class XII -Selected Streams- 2010.xlsx', 'Table12A- Open School Examination Results - A- Class X  2010.xlsx', 'Table12B- Open School Examination Results - B- Class XII 2010.xlsx', 'Table13A-  Examination Result A Level Wise Higher Education 2012-13.xlsx', 'Table13B-  Examination Result B Level Wise Pass Out PhD and PG 2012-13.xlsx', 'Table13C- % Out-turn:Pass out in different Disciplines at Under Gratuate Level in Higher Education-2012-13(Provisional).xlsx', 'Table14A- Public Expenditure on Education A-  Expenditure (Centre+States or UTs)  on Education 10-11.xlsx', 'Table14B- Public Expenditure on Education B-  Expenditure (Centre+States or UTs)  on Education 11-12.xlsx', 'Table14C- Public Expenditure on Education C-  Expenditure (Centre+States or UTs)  on Education 12-13.xlsx', 'Table14D- Public Expenditure on Education D-  Expenditure on Education 10-11.xlsx', 'Table14E- Public Expenditure on Education E-  Expenditure on Education by Sector - Revised Estimate -2011-12.xlsx', 'Table14F- Public Expenditure on Education E-  Expenditure on Education by Sector - Budget Estimate -2012-13.xlsx', 'Table15 - Literacy Rates.xlsx', 'Table16 - Number of Recognised Educational Institutions.xlsx', 'Table17A - Level-wise Enrolment. A- All Categories of Students .xlsx', 'Table17B - Level-wise Enrolment. B- Scheduled Caste Students.xlsx', 'Table17C - Level-wise Enrolment. B- Scheduled Tribe Students copy.xlsx', 'Table18- Number of Teachers by Type of School.xlsx', 'Table19A- Gross Enrolment Ratio(GER) A - All Categories of Students.xlsx', 'Table19AH- Gross Enrolment Ratio(GER) A - All Categories of Students.xlsx', 'Table19B- Gross Enrolment Ratio(GER) B- Scheduled Caste Students.xlsx', 'Table19BH- Gross Enrolment Ratio(GER) B- Scheduled Caste Students.xlsx', 'Table19C- Gross Enrolment Ratio(GER) C- Scheduled Tribes  Students.xlsx', 'Table19CH- Gross Enrolment Ratio(GER) C- Scheduled Tribes  Students copy.xlsx', 'Table2- Estimated Population by Age Group-2012-13 copy.xlsx', 'Table20 - Number of Girls per hundred Boys Enrolled  by Stages of Education.xlsx', 'Table21A - Gender Parity Index (GPI) A-All Categories of Students.xlsx', 'Table21B - Gender Parity Index (GPI) B- Scheduled Caste Students.xlsx', 'Table21C - Gender Parity Index (GPI) C-Scheduled Tribes  Students.xlsx', 'Table22A - Drop-Out Rates in School Education A- All Categories of Students.xlsx', 'Table22B - Drop-Out Rates in School Education B- Scheduled Caste Students.xlsx', 'Table22C - Drop-Out Rates in School Education B- Scheduled tribe Students.xlsx', 'Table23 - Number of Female Teachers per Hundred Male Teachers.xlsx', 'Table24 - Number of Female Teachers per Hundred Male Teachers copy.xlsx', 'Table25 - Public Expenditure on Education and Gross Domestic Product (GDP).xlsx', 'Table26 - International Comparison on GER & Public Expenditure on Education as % of GDP-2012.xlsx', 'Table27 - International Comparison on PTR & Mobility -2012.xlsx', 'Table3- Literacy Rates( 7+ Age Group).xlsx', 'Table4- Adult  Literacy Rates(15+ Age Group).xlsx', 'Table5- Number of Institutions by Type-2013-14 (P).xlsx', 'Table6A - Level-wise Enrolment in School & Higher Education.xlsx', 'Table6B - Level-wise Enrolment PhD & PG.xlsx', 'Table6C - Level-wise Enrolment UG in Higher Education.xlsx', 'Table6D - Percentage Enrolment in different Programmes in Higher Education.xlsx', 'Table6E - Enrolment in Higher Education through Regular & Distance Mode - 2012-13 (P).xlsx', 'Table6F - Representation of Foreign Student in Higher Education in the country - 2012-13(P).xlsx', 'Table7- Gross Enrolment Ratio(GER).xlsx', 'Table8- Number of Teachers and Pupil Teacher  Ratio by Type of  Institution.xlsx', 'Table9- Gender Parity Index .xlsx', '~$Table2- Estimated Population by Age Group-2012-13 copy.xlsx'])\n",
      "('Current Path:', '/Users/nish/pais-datascience/data/NLES/2016')\n",
      "('Directories:', [])\n",
      "('Files:', ['.DS_Store', 'NLES EAG 2016.zip', 'Table-1- Population Census- 2001 & 2011.xlsx', 'Table-10- Level-wise Average Annual Drop-Out Rate in School Education (2013-14).xlsx', 'Table-11A- Examination Results A-  Class X  2010.xlsx', 'Table-11B- Examination Results B-  Class XII 2010.xlsx', 'Table-12A- Open School Examination Results  A- Class X  2010.xlsx', 'Table-12B- Open School Examination Results B-Class XII 2010.xlsx', 'Table-13A- Examination Result (Higher Education)  A-Level-wise Out-turn:Pass out in Higher Education-2014-15.xlsx', 'Table-13B-  Examination Result HE B- % Out-turn:Pass Out in various Disciplines at Ph.D & Post Graduate Level in Higher Education 2014-15.xlsx', 'Table-13C-  Examination Result (Higher Education).xlsx', 'Table-14- Subject-wise Mean Achievement Score of Students at National level.xlsx', 'Table-15- State-wise  Mean Achievement Score of students in English.xlsx', 'Table-16-  State-wise  Mean Achievement Score of students in Mathematics.xlsx', 'Table-17A- Public Expenditure on Education C-  Expenditure (Centre+States:UTs)  on Education by Type- 2011-12 (In crore).xlsx', 'Table-17B- Public Expenditure on Education B-  Expenditure (Centre+States:UTs)  on Education by Type- Revised Estimate - 2012-13 (In crore).xlsx', 'Table-17C- Public Expenditure on Education C-  Expenditure (Centre+States:UTs)  on Education by Type- Budget Estimate -2013-14 (In crore).xlsx', 'Table-17D- Public Expenditure on Education D- Expenditure (Revenue) on Education by Education and Other Departments by Sector -2011-12.xlsx', 'Table-17E- Public Expenditure on Education E- Expenditure (Revenue) on Education by Education and Other Departments  by Sector - Revised Estimate -2012-13.xlsx', 'Table-17F- Public Expenditure on Education F- Expenditure (Revenue) on  Education by Education and Other Departments  by Sector - Budget Estimate -2013-14.xlsx', 'Table-18- Literacy Rates.xlsx', 'Table-19- Number of Recognised Educational Institutions.xlsx', 'Table-2- Estimated Population by Age Group-2013 & 14.xlsx', 'Table-20A- Level-wise Enrolment A- All Categories of Students.xlsx', 'Table-20B- Level-wise Enrolment B- Scheduled Caste Students.xlsx', 'Table-20C- Level-wise Enrolment  C- Scheduled Tribes Students.xlsx', 'Table-21- Number of Teachers by Type of School.xlsx', 'Table-22A- Gross Enrolment Ratio(GER) A- All Categories of Students.xlsx', 'Table-22B- Gross Enrolment Ratio(GER) B- Scheduled Caste Students.xlsx', 'Table-22BH- Gross Enrolment Ratio(GER) B - Scheduled Caste Students.xlsx', 'Table-22C- Gross Enrolment Ratio(GER) C - Scheduled Tribes  Students.xlsx', 'Table-22CH- Gross Enrolment Ratio(GER) C - Scheduled Tribes Students.xlsx', 'Table-23- Number of Female per hundred Male Enrolled  by Stages of Education.xlsx', 'Table-24A- Gender Parity Index (GPI) A - All Categories of Students.xlsx', 'Table-24B- Gender Parity Index (GPI) B - Scheduled Caste Students.xlsx', 'Table-24C- Gender Parity Index (GPI) C - Scheduled Tribes  Students.xlsx', 'Table-25A - Average Annual Drop-Out Rate in School Education A - All Categories of Students.xlsx', 'Table-25B- Average Annual Drop-Out Rate in School Education C - Scheduled Tribes Students.xlsx', 'Table-25C- Average Annual Drop-Out Rate in School Education B - Scheduled Caste Students.xlsx', 'Table-26- Number of Female Teachers per Hundred Male Teachers.xlsx', 'Table-27- Pupil Teacher Ratio (PTR).xlsx', 'Table-28- Public Expenditure on Education and Gross Domestic Product (GDP)(RS in Crore).xlsx', 'Table-29-  International Comparison on GER & Public Expenditure on Education as % of GDP-2014.xlsx', 'Table-3 - Literacy Rates( 7+ Age Group) in percentage.xlsx', 'Table-30- International Comparison on PTR & Mobility -2014.xlsx', 'Table-4- Adult  Literacy Rates(15+ Age Group)  in percentage.xlsx', 'Table-5- Number of Institutions by Type 2014-15.xlsx', 'Table-6A - Level-wise Enrolment in School & Higher Education 2014-15.xlsx', 'Table-6B- Percentage Enrolment in various Disciplines at Ph.D & Post Graduate level in Higher Education 2014-15.xlsx', 'Table-6C- Percentage Enrolment in various Disciplines at Under Graduate level in Higher Education  2014-15.xlsx', 'Table-6D- Percentage Enrolment in various Programmes in Higher Education  2014-15.xlsx', 'Table-6E- Enrolment in Higher Education through Regular & Distance Mode 2014-15.xlsx', 'Table-6F- Enrolment of Foreign Students in Higher Education  2014-15.xlsx', 'Table-7- Gross Enrolment Ratio(GER)  2014-15.xlsx', 'Table-8- Number of Teachers and Pupil Teacher  Ratio (PTR) by Type of  Institution  2014-15.xlsx', 'Table-9- Gender Parity Index(GPI) 2014-15.xlsx'])\n",
      "('Current Path:', '/Users/nish/pais-datascience/data/NLES_Final')\n",
      "('Directories:', [])\n",
      "('Files:', ['EAG2014.xlsx', 'ESG2016.xlsx', 'Table 5.xlsx'])\n",
      "('Current Path:', '/Users/nish/pais-datascience/data/Population data')\n",
      "('Directories:', [])\n",
      "('Files:', ['.DS_Store', 'Popl_sq_km.csv', 'Population_age_2011.csv', 'Population_age_2012.csv', 'Population_age_2013.csv', 'Population_age_2014.csv', 'Population_age_2015.csv', 'Population_age_2016.csv', 'Population_area_sq.xlsx', '~$Population_age_gender.xlsx', '~$State.xlsx'])\n"
     ]
    }
   ],
   "source": [
    "# os.walk()\n",
    "\n",
    "for dirpath, dirnames, filenames in os.walk('/Users/nish/pais-datascience/data'):\n",
    "    print('Current Path:',dirpath)\n",
    "    print('Directories:',dirnames)\n",
    "    print('Files:', filenames)"
   ]
  },
  {
   "cell_type": "markdown",
   "metadata": {},
   "source": [
    "###### Doubt \n",
    "* os.environ.get('/Users/nish/pais-datascience/data')\n",
    "* os.path.join..."
   ]
  },
  {
   "cell_type": "code",
   "execution_count": 55,
   "metadata": {
    "collapsed": false
   },
   "outputs": [],
   "source": [
    "# with open(file_path, 'w') as f:\n",
    "#     f.write"
   ]
  },
  {
   "cell_type": "code",
   "execution_count": 67,
   "metadata": {
    "collapsed": false
   },
   "outputs": [
    {
     "data": {
      "text/plain": [
       "('/Users/nish/Downloads/Company Files/company_master_data_upto_Mar_2015_Karnataka',\n",
       " '.csv')"
      ]
     },
     "execution_count": 67,
     "metadata": {},
     "output_type": "execute_result"
    }
   ],
   "source": [
    "os.path.splitext('/Users/nish/Downloads/Company Files/company_master_data_upto_Mar_2015_Karnataka.csv')\n",
    "#basename\n",
    "#realpath\n",
    "#dirname\n",
    "#exists\n",
    "#isder\n",
    "#isfile\n",
    "#splitext"
   ]
  },
  {
   "cell_type": "code",
   "execution_count": 75,
   "metadata": {
    "collapsed": false
   },
   "outputs": [
    {
     "name": "stdout",
     "output_type": "stream",
     "text": [
      "('company_master_data_upto_Mar_2015_Andaman_Nicobar', '.csv')\n",
      "('company_master_data_upto_Mar_2015_Andhra_Pradesh', '.csv')\n",
      "('company_master_data_upto_Mar_2015_Arunachal_Pradesh', '.csv')\n",
      "('company_master_data_upto_Mar_2015_Assam', '.csv')\n",
      "('company_master_data_upto_Mar_2015_Bihar', '.csv')\n",
      "('company_master_data_upto_Mar_2015_Chandigarh', '.csv')\n",
      "('company_master_data_upto_Mar_2015_Chhattisgarh', '.csv')\n",
      "('company_master_data_upto_Mar_2015_Dadra_Nagar_Haveli', '.csv')\n",
      "('company_master_data_upto_Mar_2015_Daman_Diu', '.csv')\n",
      "('company_master_data_upto_Mar_2015_Delhi', '.csv')\n",
      "('company_master_data_upto_Mar_2015_Goa', '.csv')\n",
      "('company_master_data_upto_Mar_2015_Gujarat', '.csv')\n",
      "('company_master_data_upto_Mar_2015_Haryana', '.csv')\n",
      "('company_master_data_upto_Mar_2015_Himachal', '.csv')\n",
      "('company_master_data_upto_Mar_2015_Jammu', '.csv')\n",
      "('company_master_data_upto_Mar_2015_Jharkhand', '.csv')\n",
      "('company_master_data_upto_Mar_2015_Karnataka', '.csv')\n",
      "('company_master_data_upto_Mar_2015_Kerala', '.csv')\n",
      "('company_master_data_upto_Mar_2015_Lakshadweep', '.csv')\n",
      "('company_master_data_upto_Mar_2015_Madhya_Pradesh', '.csv')\n",
      "('company_master_data_upto_Mar_2015_Maharashtra', '.csv')\n",
      "('company_master_data_upto_Mar_2015_Manipur', '.csv')\n",
      "('company_master_data_upto_Mar_2015_Meghalaya', '.csv')\n",
      "('company_master_data_upto_Mar_2015_Mizoram', '.csv')\n",
      "('company_master_data_upto_Mar_2015_Nagaland', '.csv')\n",
      "('company_master_data_upto_Mar_2015_Odisha', '.csv')\n",
      "('company_master_data_upto_Mar_2015_Puducherry', '.csv')\n",
      "('company_master_data_upto_Mar_2015_Punjab', '.csv')\n",
      "('company_master_data_upto_Mar_2015_Tamil_Nadu', '.csv')\n",
      "('company_master_data_upto_Mar_2015_Telangana', '.csv')\n",
      "('company_master_data_upto_Mar_2015_Tripura (1)', '.csv')\n",
      "('company_master_data_upto_Mar_2015_Tripura', '.csv')\n",
      "('company_master_data_upto_Mar_2015_Uttar_Pradesh', '.csv')\n",
      "('company_master_data_upto_Mar_2015_Uttarakhand', '.csv')\n",
      "('company_master_data_upto_Mar_2015_West_Bengal', '.csv')\n"
     ]
    }
   ],
   "source": [
    "for f in os.listdir('/Users/nish/Downloads/Company Files'):\n",
    "    print(os.path.splitext(f))\n",
    "    "
   ]
  },
  {
   "cell_type": "code",
   "execution_count": 118,
   "metadata": {
    "collapsed": false
   },
   "outputs": [
    {
     "name": "stdout",
     "output_type": "stream",
     "text": [
      "company_master_data_upto_Mar_2015_Andaman_Nicobar\n",
      "company_master_data_upto_Mar_2015_Andhra_Pradesh\n",
      "company_master_data_upto_Mar_2015_Arunachal_Pradesh\n",
      "company_master_data_upto_Mar_2015_Assam\n",
      "company_master_data_upto_Mar_2015_Bihar\n",
      "company_master_data_upto_Mar_2015_Chandigarh\n",
      "company_master_data_upto_Mar_2015_Chhattisgarh\n",
      "company_master_data_upto_Mar_2015_Dadra_Nagar_Haveli\n",
      "company_master_data_upto_Mar_2015_Daman_Diu\n",
      "company_master_data_upto_Mar_2015_Delhi\n",
      "company_master_data_upto_Mar_2015_Goa\n",
      "company_master_data_upto_Mar_2015_Gujarat\n",
      "company_master_data_upto_Mar_2015_Haryana\n",
      "company_master_data_upto_Mar_2015_Himachal\n",
      "company_master_data_upto_Mar_2015_Jammu\n",
      "company_master_data_upto_Mar_2015_Jharkhand\n",
      "company_master_data_upto_Mar_2015_Karnataka\n",
      "company_master_data_upto_Mar_2015_Kerala\n",
      "company_master_data_upto_Mar_2015_Lakshadweep\n",
      "company_master_data_upto_Mar_2015_Madhya_Pradesh\n",
      "company_master_data_upto_Mar_2015_Maharashtra\n",
      "company_master_data_upto_Mar_2015_Manipur\n",
      "company_master_data_upto_Mar_2015_Meghalaya\n",
      "company_master_data_upto_Mar_2015_Mizoram\n",
      "company_master_data_upto_Mar_2015_Nagaland\n",
      "company_master_data_upto_Mar_2015_Odisha\n",
      "company_master_data_upto_Mar_2015_Puducherry\n",
      "company_master_data_upto_Mar_2015_Punjab\n",
      "company_master_data_upto_Mar_2015_Tamil_Nadu\n",
      "company_master_data_upto_Mar_2015_Telangana\n",
      "company_master_data_upto_Mar_2015_Tripura (1)\n",
      "company_master_data_upto_Mar_2015_Tripura\n",
      "company_master_data_upto_Mar_2015_Uttar_Pradesh\n",
      "company_master_data_upto_Mar_2015_Uttarakhand\n",
      "company_master_data_upto_Mar_2015_West_Bengal\n"
     ]
    }
   ],
   "source": [
    "for f in os.listdir('/Users/nish/Downloads/Company Files'):\n",
    "    f_name, f_ext = (os.path.splitext(f))\n",
    "    file_name.split('_')\n",
    "    print(f_name)\n",
    "    "
   ]
  },
  {
   "cell_type": "code",
   "execution_count": 129,
   "metadata": {
    "collapsed": false
   },
   "outputs": [
    {
     "name": "stdout",
     "output_type": "stream",
     "text": [
      "Andaman\n",
      "Andhra\n",
      "Arunachal\n",
      "Assam\n",
      "Bihar\n",
      "Chandigarh\n",
      "Chhattisgarh\n",
      "Dadra\n",
      "Daman\n",
      "Delhi\n",
      "Goa\n",
      "Gujarat\n",
      "Haryana\n",
      "Himachal\n",
      "Jammu\n",
      "Jharkhand\n",
      "Karnataka\n",
      "Kerala\n",
      "Lakshadweep\n",
      "Madhya\n",
      "Maharashtra\n",
      "Manipur\n",
      "Meghalaya\n",
      "Mizoram\n",
      "Nagaland\n",
      "Odisha\n",
      "Puducherry\n",
      "Punjab\n",
      "Tamil\n",
      "Telangana\n",
      "Tripura (1)\n",
      "Tripura\n",
      "Uttar\n",
      "Uttarakhand\n",
      "West\n"
     ]
    }
   ],
   "source": [
    "for f in os.listdir('/Users/nish/Downloads/Company Files'):\n",
    "    f_name, f_ext = (os.path.splitext(f))\n",
    "    a=f_name.split('_')\n",
    "    print(a[6])"
   ]
  },
  {
   "cell_type": "code",
   "execution_count": 135,
   "metadata": {
    "collapsed": false
   },
   "outputs": [
    {
     "name": "stdout",
     "output_type": "stream",
     "text": [
      "Andaman-Mar-2015\n",
      "Andhra-Mar-2015\n",
      "Arunachal-Mar-2015\n",
      "Assam-Mar-2015\n",
      "Bihar-Mar-2015\n",
      "Chandigarh-Mar-2015\n",
      "Chhattisgarh-Mar-2015\n",
      "Dadra-Mar-2015\n",
      "Daman-Mar-2015\n",
      "Delhi-Mar-2015\n",
      "Goa-Mar-2015\n",
      "Gujarat-Mar-2015\n",
      "Haryana-Mar-2015\n",
      "Himachal-Mar-2015\n",
      "Jammu-Mar-2015\n",
      "Jharkhand-Mar-2015\n",
      "Karnataka-Mar-2015\n",
      "Kerala-Mar-2015\n",
      "Lakshadweep-Mar-2015\n",
      "Madhya-Mar-2015\n",
      "Maharashtra-Mar-2015\n",
      "Manipur-Mar-2015\n",
      "Meghalaya-Mar-2015\n",
      "Mizoram-Mar-2015\n",
      "Nagaland-Mar-2015\n",
      "Odisha-Mar-2015\n",
      "Puducherry-Mar-2015\n",
      "Punjab-Mar-2015\n",
      "Tamil-Mar-2015\n",
      "Telangana-Mar-2015\n",
      "Tripura (1)-Mar-2015\n",
      "Tripura-Mar-2015\n",
      "Uttar-Mar-2015\n",
      "Uttarakhand-Mar-2015\n",
      "West-Mar-2015\n"
     ]
    }
   ],
   "source": [
    "#with placeholders\n",
    "for f in os.listdir('/Users/nish/Downloads/Company Files'):\n",
    "    f_name, f_ext = (os.path.splitext(f))\n",
    "    a=f_name.split('_')\n",
    "    a[4]=a[4].strip()\n",
    "    a[5]=a[5].strip()\n",
    "    a[6]=a[6].strip().zfill(2)\n",
    "    print('{}-{}-{}'.format(a[6],a[4],a[5]))"
   ]
  },
  {
   "cell_type": "code",
   "execution_count": 200,
   "metadata": {
    "collapsed": false
   },
   "outputs": [
    {
     "name": "stdout",
     "output_type": "stream",
     "text": [
      ".DS_Store\n",
      "company_master_data_upto_Mar_2015_Andaman Nicobar.csv\n",
      "company_master_data_upto_Mar_2015_Andhra Pradesh.csv\n",
      "company_master_data_upto_Mar_2015_Arunachal Pradesh.csv\n",
      "company_master_data_upto_Mar_2015_Assam.csv\n",
      "company_master_data_upto_Mar_2015_Bihar.csv\n",
      "company_master_data_upto_Mar_2015_Chandigarh.csv\n",
      "company_master_data_upto_Mar_2015_Chhattisgarh.csv\n",
      "company_master_data_upto_Mar_2015_Dadra Nagar Haveli.csv\n",
      "company_master_data_upto_Mar_2015_Daman Diu.csv\n",
      "company_master_data_upto_Mar_2015_Delhi.csv\n",
      "company_master_data_upto_Mar_2015_Goa.csv\n",
      "company_master_data_upto_Mar_2015_Gujarat.csv\n",
      "company_master_data_upto_Mar_2015_Haryana.csv\n",
      "company_master_data_upto_Mar_2015_Himachal.csv\n",
      "company_master_data_upto_Mar_2015_Jammu.csv\n",
      "company_master_data_upto_Mar_2015_Jharkhand.csv\n",
      "company_master_data_upto_Mar_2015_Karnataka.csv\n",
      "company_master_data_upto_Mar_2015_Kerala.csv\n",
      "company_master_data_upto_Mar_2015_Lakshadweep.csv\n",
      "company_master_data_upto_Mar_2015_Madhya Pradesh.csv\n",
      "company_master_data_upto_Mar_2015_Maharashtra.csv\n",
      "company_master_data_upto_Mar_2015_Manipur.csv\n",
      "company_master_data_upto_Mar_2015_Meghalaya.csv\n",
      "company_master_data_upto_Mar_2015_Mizoram.csv\n",
      "company_master_data_upto_Mar_2015_Nagaland.csv\n",
      "company_master_data_upto_Mar_2015_Odisha.csv\n",
      "company_master_data_upto_Mar_2015_Puducherry.csv\n",
      "company_master_data_upto_Mar_2015_Punjab.csv\n",
      "company_master_data_upto_Mar_2015_Tamil Nadu.csv\n",
      "company_master_data_upto_Mar_2015_Telangana.csv\n",
      "company_master_data_upto_Mar_2015_Tripura.csv\n",
      "company_master_data_upto_Mar_2015_Uttar Pradesh.csv\n",
      "company_master_data_upto_Mar_2015_Uttarakhand.csv\n",
      "company_master_data_upto_Mar_2015_West Bengal.csv\n"
     ]
    }
   ],
   "source": [
    "#Renaming the files in the folders\n",
    "\n",
    "#with placeholders\n",
    "for f in os.listdir('/Users/nish/Downloads/Company Files'):\n",
    "    print(f)"
   ]
  },
  {
   "cell_type": "code",
   "execution_count": null,
   "metadata": {
    "collapsed": true
   },
   "outputs": [],
   "source": []
  }
 ],
 "metadata": {
  "kernelspec": {
   "display_name": "Python 2",
   "language": "python",
   "name": "python2"
  },
  "language_info": {
   "codemirror_mode": {
    "name": "ipython",
    "version": 2
   },
   "file_extension": ".py",
   "mimetype": "text/x-python",
   "name": "python",
   "nbconvert_exporter": "python",
   "pygments_lexer": "ipython2",
   "version": "2.7.9"
  }
 },
 "nbformat": 4,
 "nbformat_minor": 2
}
